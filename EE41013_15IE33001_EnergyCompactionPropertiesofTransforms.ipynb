{
 "cells": [
  {
   "cell_type": "markdown",
   "metadata": {},
   "source": [
    "# Energy Compaction Properties of Transforms"
   ]
  },
  {
   "cell_type": "markdown",
   "metadata": {},
   "source": [
    "# Raj Prabhu - 15IE33001"
   ]
  },
  {
   "cell_type": "code",
   "execution_count": 1,
   "metadata": {},
   "outputs": [],
   "source": [
    "import numpy as np\n",
    "from __future__ import division\n",
    "import matplotlib.pyplot as plt\n",
    "import sys\n",
    "import cmath\n",
    "import math"
   ]
  },
  {
   "cell_type": "code",
   "execution_count": 2,
   "metadata": {},
   "outputs": [],
   "source": [
    "def generalised_transform(transform_type,x):\n",
    "    N=len(x)\n",
    "    if transform_type==0:\n",
    "        gtm=dft(N)\n",
    "    if transform_type==1:\n",
    "        gtm=dcft(N)\n",
    "    if transform_type==2:\n",
    "        gtm=haar(N)\n",
    "    return gtm*x  "
   ]
  },
  {
   "cell_type": "code",
   "execution_count": 3,
   "metadata": {},
   "outputs": [],
   "source": [
    "def generalised_inverse_transform(transform_type,X):\n",
    "    N=len(X)\n",
    "    #print(N)\n",
    "    if transform_type==0:\n",
    "        igtm=idft(N)\n",
    "    if transform_type==1:\n",
    "        igtm=idcft(N)\n",
    "    if transform_type==2:\n",
    "        igtm=ihaar(N)\n",
    "    return igtm*X"
   ]
  },
  {
   "cell_type": "markdown",
   "metadata": {},
   "source": [
    "## DFT and IDFT Matrices"
   ]
  },
  {
   "cell_type": "code",
   "execution_count": 4,
   "metadata": {},
   "outputs": [],
   "source": [
    "def dft(N):#returns dft matrix\n",
    "    dft_matrix=np.empty([N,N],dtype=np.complex_)\n",
    "    dft_matrix=np.matrix(dft_matrix)\n",
    "    indices=np.arange(0,N,1)\n",
    "    for k in indices:\n",
    "        for n in indices:\n",
    "            dft_matrix[k,n]=np.exp(-(1j)*2*np.pi*k*n/N)\n",
    "        \n",
    "    return dft_matrix"
   ]
  },
  {
   "cell_type": "code",
   "execution_count": 5,
   "metadata": {},
   "outputs": [],
   "source": [
    "def idft(N):#returns dft matrix\n",
    "    idft_matrix=np.empty([N,N],dtype=np.complex_)\n",
    "    idft_matrix=np.matrix(idft_matrix)\n",
    "    indices=np.arange(0,N,1)\n",
    "    for k in indices:\n",
    "        for n in indices:\n",
    "            idft_matrix[k,n]=np.exp((1j)*2*np.pi*k*n/N)\n",
    "    idft_matrix=idft_matrix/N        \n",
    "    return idft_matrix"
   ]
  },
  {
   "cell_type": "markdown",
   "metadata": {},
   "source": [
    "## DCT and IDCT Matrices"
   ]
  },
  {
   "cell_type": "code",
   "execution_count": 6,
   "metadata": {},
   "outputs": [],
   "source": [
    "def dcft(N):#returns dcft matrix\n",
    "    dcft_matrix=np.empty([N,N],dtype=np.complex_)\n",
    "    dcft_matrix=np.matrix(dcft_matrix)\n",
    "    indices=np.arange(0,N,1)\n",
    "    for k in indices:\n",
    "        for n in indices:\n",
    "            dcft_matrix[k,n]=2*np.cos(np.pi*k*(2*n+1)/(2*N))\n",
    "        \n",
    "    return dcft_matrix"
   ]
  },
  {
   "cell_type": "code",
   "execution_count": 7,
   "metadata": {},
   "outputs": [],
   "source": [
    "def idcft(N):#returns dcft matrix\n",
    "    idcft_matrix=np.empty([N,N],dtype=np.complex_)\n",
    "    idcft_matrix=np.matrix(idcft_matrix)\n",
    "    indices=np.arange(0,N,1)\n",
    "    for k in indices: \n",
    "        for n in indices:\n",
    "            if n==0:\n",
    "                alpha=0.5\n",
    "            else:\n",
    "                alpha=1\n",
    "            idcft_matrix[k,n]=alpha*np.cos(np.pi*n*(2*k+1)/(2*N))\n",
    "    idcft_matrix=idcft_matrix/N\n",
    "    return idcft_matrix"
   ]
  },
  {
   "cell_type": "markdown",
   "metadata": {},
   "source": [
    "## Haar and Inverse Haar Matrices"
   ]
  },
  {
   "cell_type": "code",
   "execution_count": 49,
   "metadata": {},
   "outputs": [],
   "source": [
    "def haar(N):\n",
    "    if N==2:\n",
    "        h2=np.matrix([[1,1],[1,-1]])\n",
    "        return h2\n",
    "    v=np.log2(N)-1\n",
    "    hn2=haar(N/2)\n",
    "    result1=np.concatenate((hn2,hn2),axis=1)\n",
    "    matrix1=(pow(2,v/2))*np.identity(int(N/2))\n",
    "    result2=np.concatenate((matrix1,-matrix1),axis=1)\n",
    "    return np.concatenate((result1,result2),axis=0)"
   ]
  },
  {
   "cell_type": "code",
   "execution_count": 9,
   "metadata": {},
   "outputs": [],
   "source": [
    "def ihaar(N):\n",
    "    haar_matrix=haar(N)\n",
    "    return np.transpose(haar_matrix)/N"
   ]
  },
  {
   "cell_type": "markdown",
   "metadata": {},
   "source": [
    "### Other functions"
   ]
  },
  {
   "cell_type": "code",
   "execution_count": 10,
   "metadata": {},
   "outputs": [],
   "source": [
    "def mse(transform_type,x,X,N):\n",
    "    err=[]\n",
    "    for l in range(0,N,1):\n",
    "        if transform_type==0:\n",
    "            Xm=xmdft(X,l,N)\n",
    "            xm=generalised_inverse_transform(0,Xm)\n",
    "        if transform_type==1:\n",
    "            Xm=xdcthaar(X,l,N)\n",
    "            xm=generalised_inverse_transform(1,Xm)\n",
    "        if transform_type==2:\n",
    "            Xm=xdcthaar(X,l,N)\n",
    "            xm=generalised_inverse_transform(2,Xm)\n",
    "        err=np.append(err,dot_product(x,xm,N))\n",
    "    return err "
   ]
  },
  {
   "cell_type": "code",
   "execution_count": 11,
   "metadata": {},
   "outputs": [],
   "source": [
    "def dot_product(x,y,N):\n",
    "    err=x-y\n",
    "    errt=np.transpose(err)\n",
    "    errt=np.conjugate(errt)\n",
    "    \n",
    "    return errt*err/N"
   ]
  },
  {
   "cell_type": "code",
   "execution_count": 12,
   "metadata": {},
   "outputs": [],
   "source": [
    "def xmdft(X,L,N):\n",
    "    for i in range(int((N+1-L)/2),int((N-1+L)/2)+1,1):\n",
    "        X[i]=0\n",
    "    return X"
   ]
  },
  {
   "cell_type": "code",
   "execution_count": 13,
   "metadata": {},
   "outputs": [],
   "source": [
    "def  xdcthaar(X,L,N):\n",
    "    for i in range(N-L,N):\n",
    "        X[i]=0\n",
    "    return X  "
   ]
  },
  {
   "cell_type": "code",
   "execution_count": 53,
   "metadata": {},
   "outputs": [
    {
     "name": "stdout",
     "output_type": "stream",
     "text": [
      "[[33.43876804+30.76256598j]\n",
      " [ 2.82562138 -0.24199066j]\n",
      " [ 1.80246603 -4.19593979j]\n",
      " [ 0.53748097 +2.65873598j]\n",
      " [ 2.48198076 +2.54264829j]\n",
      " [ 6.02487449 -3.63206267j]\n",
      " [ 3.32018721 +2.66477648j]\n",
      " [ 0.88403404 -1.74339002j]\n",
      " [ 2.78894883 +2.79011785j]\n",
      " [-0.73081974 +1.56495428j]\n",
      " [-3.25629643 -4.28890494j]\n",
      " [ 0.58766286 +0.4773076j ]\n",
      " [-1.87089798 +1.46095986j]\n",
      " [-0.38702256 +0.7913353j ]\n",
      " [-2.703012   -1.60908313j]\n",
      " [-2.53980159 +0.43872861j]\n",
      " [ 1.12303333 +5.37572303j]\n",
      " [-2.16389898 -0.90324687j]\n",
      " [ 0.68643086 +1.49629944j]\n",
      " [ 1.42816392 -4.45082615j]\n",
      " [ 0.87085498 +3.9166049j ]\n",
      " [-1.5887814  +3.62190638j]\n",
      " [-0.94566255 -0.85757843j]\n",
      " [ 0.07740971 +1.73544071j]\n",
      " [ 2.37670461 -0.32899091j]\n",
      " [-2.16353892 +1.08640169j]\n",
      " [-0.8813916  +0.45091068j]\n",
      " [-4.5063674  +1.21674372j]\n",
      " [ 0.92557091 -0.2041397j ]\n",
      " [-0.36458822 +4.661747j  ]\n",
      " [-3.39747394 -0.57445352j]\n",
      " [ 1.71897539 +0.55579679j]\n",
      " [-2.8983728  +0.77578324j]\n",
      " [-0.77908914 +2.20955932j]\n",
      " [ 5.36434177 +1.0816734j ]\n",
      " [ 3.99724942 +3.92681129j]\n",
      " [-3.59648111 +2.39609898j]\n",
      " [-3.97695486 +0.16565463j]\n",
      " [-1.03550919 -1.02098556j]\n",
      " [ 1.20320409 +0.1909441j ]\n",
      " [ 2.13180877 -1.4270083j ]\n",
      " [-0.80809442 -2.67539074j]\n",
      " [-0.14890768 +0.80787182j]\n",
      " [-0.51176735 -1.21912091j]\n",
      " [ 3.06544582 +1.3194087j ]\n",
      " [-3.98543282 +1.81876095j]\n",
      " [ 2.37847354 -0.5580193j ]\n",
      " [-4.67409991 +0.73453803j]\n",
      " [ 4.11850711 +4.82696363j]\n",
      " [ 3.75937909 -5.0813601j ]\n",
      " [ 2.68359329 -1.81907805j]\n",
      " [-3.40439839 -3.90839768j]\n",
      " [ 2.45450386 -4.16174882j]\n",
      " [-1.14045415 +1.01400305j]\n",
      " [-3.28238341 +0.72435928j]\n",
      " [-0.47575516 +2.08873381j]\n",
      " [ 2.31156455 +3.07899435j]\n",
      " [-1.10167656 -0.08363622j]\n",
      " [-3.83590659 +0.98104616j]\n",
      " [ 1.26104204 -1.36726273j]\n",
      " [-0.12595334 -0.51369539j]\n",
      " [-1.34282677 +2.92612583j]\n",
      " [ 1.01708331 +1.66113154j]\n",
      " [-1.90859659 -1.69121091j]]\n",
      "(64L,)\n",
      "[[ 6.68775361e+01+61.52513197j]\n",
      " [ 2.19020526e-01 +6.89526678j]\n",
      " [ 9.87030054e-01 -2.16317001j]\n",
      " [ 4.48085121e+00 +1.14906274j]\n",
      " [ 2.23187906e+00 -2.59958342j]\n",
      " [-3.98958282e+00 +3.82658015j]\n",
      " [-8.35863385e-01 +5.24851567j]\n",
      " [-2.53058325e+00 +2.71164024j]\n",
      " [ 2.90702009e+00 +1.48118444j]\n",
      " [ 2.78788863e+00 +2.35972789j]\n",
      " [ 6.51726524e+00 -6.00701875j]\n",
      " [-3.75186273e+00 +3.04869164j]\n",
      " [-4.75156060e-03 +1.41153036j]\n",
      " [ 8.05154828e-01 -4.49837402j]\n",
      " [-7.64074243e-01 -2.38919147j]\n",
      " [-6.78867687e-01 -1.16501065j]\n",
      " [ 4.60171167e+00 +5.23966558j]\n",
      " [-2.98170688e+00 -2.82773679j]\n",
      " [-1.31467539e+00 +3.41194907j]\n",
      " [-1.58208939e+00 -3.6482571j ]\n",
      " [-8.12983718e+00 -3.15594593j]\n",
      " [-3.61199778e+00 -0.07087338j]\n",
      " [-7.50061504e-01 +0.39071012j]\n",
      " [-5.57908151e+00 -5.64263907j]\n",
      " [ 3.60906013e+00 +0.15744055j]\n",
      " [-2.46180448e+00 +1.4660919j ]\n",
      " [-2.45670195e-01 -4.30109666j]\n",
      " [ 3.17403242e+00 -4.22383129j]\n",
      " [ 1.18208502e-01 +0.76722179j]\n",
      " [-7.07875034e-01 +1.05862406j]\n",
      " [ 4.61071232e+00 +0.79030816j]\n",
      " [ 3.86136710e+00+10.62780116j]\n",
      " [ 4.09436028e+00 +9.33250874j]\n",
      " [-3.62391507e+00 +1.07024972j]\n",
      " [-5.80563795e+00 -1.97323414j]\n",
      " [ 2.93140358e+00 +0.47532074j]\n",
      " [ 3.53236464e+00 +1.9032053j ]\n",
      " [ 6.10362839e-01 +2.42807498j]\n",
      " [-6.55914289e+00 -5.91616108j]\n",
      " [-1.09338940e+00 +2.43243045j]\n",
      " [ 4.34638127e+00 +4.73370889j]\n",
      " [-4.73361352e+00 -0.46932314j]\n",
      " [ 3.07238973e+00 +2.15906436j]\n",
      " [ 1.29635029e+00 -1.15685586j]\n",
      " [-1.98477283e+00 +0.67924353j]\n",
      " [-1.09276210e+00 +0.10391522j]\n",
      " [ 3.67493643e+00 -1.20236667j]\n",
      " [ 3.00010069e+00 +0.29732569j]\n",
      " [ 2.73976917e+00 -0.89824606j]\n",
      " [-4.01079665e+00 +2.38224257j]\n",
      " [ 5.19585718e-01 +3.60026173j]\n",
      " [-2.87464624e+00 +1.89822805j]\n",
      " [ 8.52069954e-01 -0.31296534j]\n",
      " [-3.98748301e+00 +3.61478873j]\n",
      " [-1.04168990e+00 +0.84944211j]\n",
      " [ 5.21960215e+00 +3.92015823j]\n",
      " [-3.07134456e+00 -4.00753202j]\n",
      " [ 5.66629235e+00 +4.05874593j]\n",
      " [ 1.26000324e+00 +5.57483056j]\n",
      " [ 2.93026248e-01 -4.28263189j]\n",
      " [-1.45536545e+00 +8.76934141j]\n",
      " [-1.50265771e+00 +1.37445975j]\n",
      " [-1.60565247e+00 -2.35936591j]\n",
      " [-4.24769433e+00 -0.56244687j]]\n",
      "(64L,)\n",
      "[[33.43876804+3.07625660e+01j]\n",
      " [-2.8983728 +7.75783245e-01j]\n",
      " [ 3.70632879+7.21438892e+00j]\n",
      " [-0.38803149-2.11811982e+00j]\n",
      " [ 4.80451338+2.05655650e+00j]\n",
      " [-0.0767709 +2.95124858e+00j]\n",
      " [ 0.69344694+1.16244219e-01j]\n",
      " [-0.49537812-2.44051941e+00j]\n",
      " [ 1.48670046+2.38865508e+00j]\n",
      " [-1.55828011-2.29210124e+00j]\n",
      " [-3.37922107-5.89810344e-01j]\n",
      " [ 2.73842915+5.78152108e+00j]\n",
      " [-0.93022368+7.66125692e-02j]\n",
      " [-0.81210387+6.40664130e-01j]\n",
      " [-0.96182635-1.43265412e+00j]\n",
      " [-3.93505266-3.79288950e-02j]\n",
      " [-0.55849184-1.26399348e+00j]\n",
      " [ 0.35498828-1.84024645e+00j]\n",
      " [ 2.20232437+3.11403773e+00j]\n",
      " [ 2.93836507+2.74873558e+00j]\n",
      " [ 2.95124196+2.72977345e+00j]\n",
      " [-1.67603849-4.63101535e+00j]\n",
      " [ 0.06162054-8.97785034e-01j]\n",
      " [ 3.00780618-3.63105225e+00j]\n",
      " [ 1.47906716+1.76565667e+00j]\n",
      " [ 4.06463506-2.84323330e+00j]\n",
      " [ 2.13088548+2.10413614e+00j]\n",
      " [ 0.58753535+4.39597084e-01j]\n",
      " [-3.3765764 +4.13654997e+00j]\n",
      " [-0.80597618+1.48806934e+00j]\n",
      " [ 0.40302144+1.62041028e+00j]\n",
      " [ 1.16747307-6.98858393e-01j]\n",
      " [-2.51886771+1.21734326e+00j]\n",
      " [ 0.50382645-1.27380161e+00j]\n",
      " [ 4.05764215+5.12816884e+00j]\n",
      " [-0.22250799-9.45141984e-01j]\n",
      " [ 1.64855252+2.55148787e+00j]\n",
      " [-1.0092775 -1.11831562e-01j]\n",
      " [-3.0815819 +1.44664397e+00j]\n",
      " [-3.24968802+3.74214205e+00j]\n",
      " [ 2.62039283+2.32719155e-02j]\n",
      " [-0.61722131-2.42719638e+00j]\n",
      " [-3.3185862 -5.46258585e+00j]\n",
      " [ 2.88514592+1.10123243e+00j]\n",
      " [-0.49426523+3.65524081e-01j]\n",
      " [ 4.35910216-6.75058536e-01j]\n",
      " [-0.279555  -3.35505091e+00j]\n",
      " [-0.20404932+4.41966466e+00j]\n",
      " [-1.34335951-2.82443130e-01j]\n",
      " [ 0.74495934+1.69182265e+00j]\n",
      " [ 0.84250965+1.24533557e+00j]\n",
      " [-5.14555503+9.34572841e-01j]\n",
      " [-0.29923897+3.85788137e+00j]\n",
      " [-0.31453579+3.00251313e+00j]\n",
      " [-1.92867593+1.81465486e+00j]\n",
      " [-2.12808456-7.18239503e-01j]\n",
      " [ 2.49654961+2.65241936e+00j]\n",
      " [ 2.75739269-2.03313268e-01j]\n",
      " [-3.99218284-2.08374835e+00j]\n",
      " [ 2.4080016 +2.55045227e-01j]\n",
      " [ 1.81508812+3.45582359e+00j]\n",
      " [ 1.24380216+1.54189891e+00j]\n",
      " [-1.57031545-9.84941619e-01j]\n",
      " [-3.41033064+3.56032771e+00j]]\n",
      "(64L,)\n"
     ]
    }
   ],
   "source": [
    "# input sequence generator\n",
    "length=64\n",
    "real=np.random.rand(length)\n",
    "img=np.random.rand(length)\n",
    "x=real+1j*img\n",
    "x=np.matrix(x)\n",
    "x=np.transpose(x)\n",
    "color=['r','g','b']\n",
    "for i in range(0,3,1):\n",
    "    X=generalised_transform(i,x)\n",
    "    print(X)\n",
    "    err=mse(i,x,X,length)\n",
    "    print(err.shape)"
   ]
  },
  {
   "cell_type": "markdown",
   "metadata": {},
   "source": [
    "## Graph - E(L) vs L"
   ]
  },
  {
   "cell_type": "code",
   "execution_count": 54,
   "metadata": {},
   "outputs": [
    {
     "data": {
      "image/png": "[encoded data removed]",
      "text/plain": [
       "<Figure size 432x288 with 1 Axes>"
      ]
     },
     "metadata": {
      "needs_background": "light"
     },
     "output_type": "display_data"
    }
   ],
   "source": [
    "for i in range(0,3,1):\n",
    "    X=generalised_transform(i,x)\n",
    "    err=mse(i,x,X,length)\n",
    "    plt.plot(np.arange(0,length,1),err,color[i])"
   ]
  }
 ],
 "metadata": {
  "kernelspec": {
   "display_name": "Python 2",
   "language": "python",
   "name": "python2"
  },
  "language_info": {
   "codemirror_mode": {
    "name": "ipython",
    "version": 2
   },
   "file_extension": ".py",
   "mimetype": "text/x-python",
   "name": "python",
   "nbconvert_exporter": "python",
   "pygments_lexer": "ipython2",
   "version": "2.7.15"
  }
 },
 "nbformat": 4,
 "nbformat_minor": 2
}
